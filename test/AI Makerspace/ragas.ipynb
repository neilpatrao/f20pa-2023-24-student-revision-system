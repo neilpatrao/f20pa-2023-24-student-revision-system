{
 "cells": [
  {
   "cell_type": "markdown",
   "metadata": {},
   "source": [
    "# **Ground Truth Dataset Creation Using GPT-3.5-turbo and GPT-4**"
   ]
  },
  {
   "cell_type": "markdown",
   "metadata": {},
   "source": [
    "## **Setup**"
   ]
  },
  {
   "cell_type": "code",
   "execution_count": 1,
   "metadata": {},
   "outputs": [
    {
     "data": {
      "text/plain": [
       "'c:\\\\Users\\\\neilp\\\\Documents\\\\College\\\\F20PA\\\\f20pa-2023-24-student-revision-system\\\\test\\\\AI Makerspace'"
      ]
     },
     "execution_count": 1,
     "metadata": {},
     "output_type": "execute_result"
    }
   ],
   "source": [
    "import os\n",
    "os.getcwd()"
   ]
  },
  {
   "cell_type": "markdown",
   "metadata": {},
   "source": [
    "## **Loading Documents**"
   ]
  },
  {
   "cell_type": "markdown",
   "metadata": {},
   "source": [
    "### **Arxiv**"
   ]
  },
  {
   "cell_type": "code",
   "execution_count": 2,
   "metadata": {},
   "outputs": [],
   "source": [
    "from langchain_community.document_loaders.arxiv import ArxivLoader\n",
    "\n",
    "arxiv_loader = ArxivLoader(\"Vaswani Attention Is All You Need\", load_max_docs=1)\n",
    "arxiv_docs = arxiv_loader.load()"
   ]
  },
  {
   "cell_type": "code",
   "execution_count": 31,
   "metadata": {},
   "outputs": [
    {
     "data": {
      "text/plain": [
       "{'Published': '2023-08-02',\n",
       " 'Title': 'Attention Is All You Need',\n",
       " 'Authors': 'Ashish Vaswani, Noam Shazeer, Niki Parmar, Jakob Uszkoreit, Llion Jones, Aidan N. Gomez, Lukasz Kaiser, Illia Polosukhin',\n",
       " 'Summary': 'The dominant sequence transduction models are based on complex recurrent or\\nconvolutional neural networks in an encoder-decoder configuration. The best\\nperforming models also connect the encoder and decoder through an attention\\nmechanism. We propose a new simple network architecture, the Transformer, based\\nsolely on attention mechanisms, dispensing with recurrence and convolutions\\nentirely. Experiments on two machine translation tasks show these models to be\\nsuperior in quality while being more parallelizable and requiring significantly\\nless time to train. Our model achieves 28.4 BLEU on the WMT 2014\\nEnglish-to-German translation task, improving over the existing best results,\\nincluding ensembles by over 2 BLEU. On the WMT 2014 English-to-French\\ntranslation task, our model establishes a new single-model state-of-the-art\\nBLEU score of 41.8 after training for 3.5 days on eight GPUs, a small fraction\\nof the training costs of the best models from the literature. We show that the\\nTransformer generalizes well to other tasks by applying it successfully to\\nEnglish constituency parsing both with large and limited training data.'}"
      ]
     },
     "execution_count": 31,
     "metadata": {},
     "output_type": "execute_result"
    }
   ],
   "source": [
    "arxiv_docs[0].metadata"
   ]
  },
  {
   "cell_type": "markdown",
   "metadata": {},
   "source": [
    "### **Lecture Material**"
   ]
  },
  {
   "cell_type": "code",
   "execution_count": 3,
   "metadata": {},
   "outputs": [
    {
     "name": "stderr",
     "output_type": "stream",
     "text": [
      "This function will be deprecated in a future release and `unstructured` will simply use the DEFAULT_MODEL from `unstructured_inference.model.base` to set default model name\n",
      "Some weights of the model checkpoint at microsoft/table-transformer-structure-recognition were not used when initializing TableTransformerForObjectDetection: ['model.backbone.conv_encoder.model.layer2.0.downsample.1.num_batches_tracked', 'model.backbone.conv_encoder.model.layer3.0.downsample.1.num_batches_tracked', 'model.backbone.conv_encoder.model.layer4.0.downsample.1.num_batches_tracked']\n",
      "- This IS expected if you are initializing TableTransformerForObjectDetection from the checkpoint of a model trained on another task or with another architecture (e.g. initializing a BertForSequenceClassification model from a BertForPreTraining model).\n",
      "- This IS NOT expected if you are initializing TableTransformerForObjectDetection from the checkpoint of a model that you expect to be exactly identical (initializing a BertForSequenceClassification model from a BertForSequenceClassification model).\n",
      "This function will be deprecated in a future release and `unstructured` will simply use the DEFAULT_MODEL from `unstructured_inference.model.base` to set default model name\n",
      "This function will be deprecated in a future release and `unstructured` will simply use the DEFAULT_MODEL from `unstructured_inference.model.base` to set default model name\n",
      "This function will be deprecated in a future release and `unstructured` will simply use the DEFAULT_MODEL from `unstructured_inference.model.base` to set default model name\n",
      "This function will be deprecated in a future release and `unstructured` will simply use the DEFAULT_MODEL from `unstructured_inference.model.base` to set default model name\n",
      "This function will be deprecated in a future release and `unstructured` will simply use the DEFAULT_MODEL from `unstructured_inference.model.base` to set default model name\n"
     ]
    }
   ],
   "source": [
    "from langchain_community.document_loaders.directory import DirectoryLoader\n",
    "\n",
    "lec_loader = DirectoryLoader(\"data\")\n",
    "lec_docs = lec_loader.load()"
   ]
  },
  {
   "cell_type": "code",
   "execution_count": 219,
   "metadata": {},
   "outputs": [],
   "source": [
    "from langchain_text_splitters import RecursiveCharacterTextSplitter\n",
    "\n",
    "text_splitter = RecursiveCharacterTextSplitter(chunk_size=1000, chunk_overlap=200)\n",
    "# arxiv_chunks = text_splitter.split_documents(arxiv_docs)\n",
    "lec_chunks = text_splitter.split_documents(lec_docs)\n",
    "# lec_chunks = text_splitter.split_text(\"\\n\".join([doc.page_content for doc in lec_docs]))"
   ]
  },
  {
   "cell_type": "code",
   "execution_count": 220,
   "metadata": {},
   "outputs": [
    {
     "data": {
      "text/plain": [
       "Document(page_content='Applied Text Analytics\\x0b\\n\\nDr Neamat El Gayar\\n\\nProgram Director of MSc Artificial Intelligence \\n\\nn.elgayar@hw.ac.uk\\n\\nF20/F21AA\\n\\nSources of Text\\n\\nEmails\\n\\nProduct/ Service Review \\n\\nCustomer Feedback\\n\\nLive Chats\\n\\nCalls centre logs\\n\\nSocial media posts (Tweets)\\n\\nSurveys\\n\\nMedical records\\n\\nLegal documents \\n\\nScientific Literature \\n\\nIntroduction to Text Analytics\\n\\n2\\n\\nText Data Growth?\\n\\nLess than  1% of the data  is analysed  \\n\\nVast portion of this data is text  (79%)\\n\\nForbes 2018: \\n\\n90% of all data today created in the last two years Daily data output is more than 2.5 quintillion bytes.\\n\\nText Data /every minute:[2017]\\n\\n456,000 new Tweets\\n\\n510,000 new comments on Facebook\\n\\n16 million text messages\\n\\n156 million emails sent \\n\\n103,447,520 million Spam emails \\n\\n2020 and beyond: “1.7 Mb of data will be created every second for every person on the planet.”\\n\\nIntroduction to Text Analytics\\n\\n3\\n\\nValue from Text ?\\n\\nClassify an email message as either legitimate or spam\\n\\nFrom content of the email', metadata={'source': 'data\\\\01_week1_intro_to_text_analytics.pptx'})"
      ]
     },
     "execution_count": 220,
     "metadata": {},
     "output_type": "execute_result"
    }
   ],
   "source": [
    "# print(len(arxiv_chunks))\n",
    "lec_chunks[0]"
   ]
  },
  {
   "cell_type": "code",
   "execution_count": 222,
   "metadata": {},
   "outputs": [],
   "source": [
    "from langchain_community.vectorstores.faiss import FAISS\n",
    "from langchain_community.embeddings import HuggingFaceEmbeddings\n",
    "\n",
    "embeddings = HuggingFaceEmbeddings()\n",
    "vectorstore = FAISS.from_documents(lec_chunks, embeddings)"
   ]
  },
  {
   "cell_type": "code",
   "execution_count": 227,
   "metadata": {},
   "outputs": [
    {
     "data": {
      "text/plain": [
       "'“Text”\\n\\n“Analytics”\\n\\nText Processing\\n\\nKeeping the relevant data\\n\\nReducing dimensionality\\n\\nText Representation\\n\\nBag of word\\n\\nVector Space Model\\n\\nN-gram features- context\\n\\nText as a sequence of words ( hot-one encoding -Word2vec)\\n\\nText Classification\\n\\nTopic modelling\\n\\nDeep Learning  for NLP applications (Sequence to Sequence model)-Transformers \\n\\nIntroduction to Text Analytics\\n\\n6\\n\\nRelated Fields \\n\\nMachine Learning: Models that learn from data \\n\\nInformation Retrieval: indexing, ranking and search of electronic documents & database management issues.  \\n\\nNatural Language processing: understanding human language. Deals with linguistics and language parsing.  Can also include speech \\n\\nIntroduction to Text Analytics\\n\\n7\\n\\nHistory of NLP approaches\\n\\nComputational Linguistics \\n\\nData-Driven approach to NLP:\\n\\nTrain models to encode the grammatical structure of a language from text examples.\\n\\nModels can be used with arbitrary languages and applications\\n\\nText analytics:\\n\\ndraws on some NLP tools\\n\\nVectors become more meaningful -\\uf0e0 rich representation\\n\\nEach word is a vector of a certain dimension, which represents some aspect.\\n\\nApplied Text Analytics F20/F21AA \\n\\nWhy we are studying this now?\\n\\nThey highly improved NLP/text analytic system capabilities/performance\\n\\nWord Embeddings are building blocks of Neural & Deep Learning models\\n\\nYou can use pretrained word-embeddings if you have less data (transfer learning)\\n\\nOn their own they can be used for clustering and data visualization for data analysis (later example)\\n\\nMany interesting properties\\n\\nApplied Text Analytics F20/F21AA \\n\\nAnalogy: Embeddings capture relational meaning!\\n\\nApplied Text Analytics F20/F21AA \\n\\nThe amazing power of word vectors \\n\\nApplied Text Analytics F20/F21AA \\n\\nWord2Vec\\n\\nApplied Text Analytics F20/F21AA \\n\\nWord2vec\\n\\nWe will build a dense vector for each word, chosen so that it is similar to vectors of words that appear in similar contexts\\n\\nIntroduction to Text Analytics\\n\\n3\\n\\nValue from Text ?\\n\\nClassify an email message as either legitimate or spam\\n\\nFrom content of the email\\n\\nLearn about the opinion of your customer on your product/service. ( or the competitors) \\n\\nFrom individual’s comments  or tweets. \\n\\nFind out if a message is a complaint or an inquiry. \\n\\nFrom subject line and content of a message\\n\\nIntroduction to Text Analytics\\n\\n4\\n\\nText Analytics\\n\\n“Text”\\n\\n“Analytics”\\n\\nClient interactions, product reviews, call center logs, emails, blogs, tweets \\n\\nText Sources: Digital Libraries, Electronic news, social media, web, chat logs \\n\\nTools to work on data \\n\\nGain insights using:\\n\\nVisualization\\n\\nTransformations\\n\\nMachine learning \\n\\nTell the story behind the data!\\n\\nIntroduction to Text Analytics\\n\\n5\\n\\nSome topics covered in the course!\\n\\n“Text”\\n\\n“Analytics”\\n\\nText Processing\\n\\nKeeping the relevant data\\n\\nReducing dimensionality\\n\\nText Representation\\n\\nBag of word\\n\\nVector Space Model\\n\\nN-gram features- context\\n\\nApplied Text Analytics\\x0b\\n\\nDr Neamat El Gayar\\n\\nProgram Director of MSc Artificial Intelligence \\n\\nn.elgayar@hw.ac.uk\\n\\nF20/F21AA\\n\\nSources of Text\\n\\nEmails\\n\\nProduct/ Service Review \\n\\nCustomer Feedback\\n\\nLive Chats\\n\\nCalls centre logs\\n\\nSocial media posts (Tweets)\\n\\nSurveys\\n\\nMedical records\\n\\nLegal documents \\n\\nScientific Literature \\n\\nIntroduction to Text Analytics\\n\\n2\\n\\nText Data Growth?\\n\\nLess than  1% of the data  is analysed  \\n\\nVast portion of this data is text  (79%)\\n\\nForbes 2018: \\n\\n90% of all data today created in the last two years Daily data output is more than 2.5 quintillion bytes.\\n\\nText Data /every minute:[2017]\\n\\n456,000 new Tweets\\n\\n510,000 new comments on Facebook\\n\\n16 million text messages\\n\\n156 million emails sent \\n\\n103,447,520 million Spam emails \\n\\n2020 and beyond: “1.7 Mb of data will be created every second for every person on the planet.”\\n\\nIntroduction to Text Analytics\\n\\n3\\n\\nValue from Text ?\\n\\nClassify an email message as either legitimate or spam\\n\\nFrom content of the email'"
      ]
     },
     "execution_count": 227,
     "metadata": {},
     "output_type": "execute_result"
    }
   ],
   "source": [
    "relevant_docs = vectorstore.similarity_search(\"What value do we get from text?\")\n",
    "context = \"\\n\\n\".join([doc.page_content for doc in relevant_docs])\n",
    "context"
   ]
  },
  {
   "cell_type": "code",
   "execution_count": 78,
   "metadata": {},
   "outputs": [
    {
     "data": {
      "text/plain": [
       "'Parser [29] even when training only on the WSJ training set of 40K sentences.\\n7\\nConclusion\\nIn this work, we presented the Transformer, the first sequence transduction model based entirely on\\nattention, replacing the recurrent layers most commonly used in encoder-decoder architectures with\\nmulti-headed self-attention.\\nFor translation tasks, the Transformer can be trained significantly faster than architectures based\\non recurrent or convolutional layers. On both WMT 2014 English-to-German and WMT 2014\\nEnglish-to-French translation tasks, we achieve a new state of the art. In the former task our best\\nmodel outperforms even all previously reported ensembles.\\nWe are excited about the future of attention-based models and plan to apply them to other tasks. We\\nplan to extend the Transformer to problems involving input and output modalities other than text and\\nto investigate local, restricted attention mechanisms to efficiently handle large inputs and outputs'"
      ]
     },
     "execution_count": 78,
     "metadata": {},
     "output_type": "execute_result"
    }
   ],
   "source": [
    "arxiv_chunks[36].page_content"
   ]
  },
  {
   "cell_type": "code",
   "execution_count": 200,
   "metadata": {},
   "outputs": [
    {
     "data": {
      "text/plain": [
       "Document(page_content='Naive Bayes (simple, common)  \\n\\nk-Nearest Neighbors (simple, powerful)\\n\\nSupport-vector machines (generally more powerful)\\n\\nLogistic Regression \\n\\nNeural Networks,.. plus many other methods\\n\\nMany commercial systems use a mixture of methods\\n\\nF20/F21 AA Applied Text Analytics\\n\\n15\\n\\nDocuments in a Vector Space\\n\\nGovernment\\n\\nScience\\n\\nArts\\n\\nF20/F21 AA Applied Text Analytics\\n\\n16\\n\\nTest Document of what class?\\n\\nGovernment\\n\\nScience\\n\\nArts\\n\\nF20/F21 AA Applied Text Analytics\\n\\n17\\n\\nTest Document = Government\\n\\nIs this \\n\\nsimilarity\\n\\nhypothesis\\n\\ntrue in\\n\\ngeneral?\\n\\nGovernment\\n\\nScience\\n\\nArts\\n\\nOur focus: how to find good separators\\n\\nF20/F21 AA Applied Text Analytics\\n\\n18\\n\\nSimilarity measure\\n\\nF20/F21 AA Applied Text Analytics\\n\\n19\\n\\nEuclidean Distance (Example) \\n\\n“She sat down.\\t\\n\\n“She drank coffee.”\\n\\n“She spent much time in learning text mining”\\n\\n“She invested significant efforts in learning text mining”.\\n\\n[Charu C. Aggarwal. “Machine Learning for Text.”]\\n\\nF20/F21 AA Applied Text Analytics\\n\\n20\\n\\nSolved example', metadata={'source': 'data\\\\04_week3_classification_part1.pptx'})"
      ]
     },
     "execution_count": 200,
     "metadata": {},
     "output_type": "execute_result"
    }
   ],
   "source": [
    "lec_chunks[69]"
   ]
  },
  {
   "cell_type": "code",
   "execution_count": null,
   "metadata": {},
   "outputs": [],
   "source": [
    "chunk_indexes = [0,1,2,37,48,50,54,55,58]"
   ]
  },
  {
   "cell_type": "code",
   "execution_count": 72,
   "metadata": {},
   "outputs": [],
   "source": [
    "arxiv_contexts = [chunk.page_content for chunk in arxiv_chunks[:37]]\n",
    "lec_contexts = [chunk.page_content for chunk in lec_chunks]"
   ]
  },
  {
   "cell_type": "code",
   "execution_count": 75,
   "metadata": {},
   "outputs": [
    {
     "data": {
      "text/plain": [
       "'Parser [29] even when training only on the WSJ training set of 40K sentences.\\n7\\nConclusion\\nIn this work, we presented the Transformer, the first sequence transduction model based entirely on\\nattention, replacing the recurrent layers most commonly used in encoder-decoder architectures with\\nmulti-headed self-attention.\\nFor translation tasks, the Transformer can be trained significantly faster than architectures based\\non recurrent or convolutional layers. On both WMT 2014 English-to-German and WMT 2014\\nEnglish-to-French translation tasks, we achieve a new state of the art. In the former task our best\\nmodel outperforms even all previously reported ensembles.\\nWe are excited about the future of attention-based models and plan to apply them to other tasks. We\\nplan to extend the Transformer to problems involving input and output modalities other than text and\\nto investigate local, restricted attention mechanisms to efficiently handle large inputs and outputs'"
      ]
     },
     "execution_count": 75,
     "metadata": {},
     "output_type": "execute_result"
    }
   ],
   "source": [
    "arxiv_contexts[-1]"
   ]
  },
  {
   "cell_type": "code",
   "execution_count": 17,
   "metadata": {},
   "outputs": [
    {
     "data": {
      "text/plain": [
       "'• Mini-batches lead to faster training\\n\\n• Can be paralelized for GPUs\\n\\nSample, Batch, Epoch\\n\\n• A sample is a single row of data. A sample may also be called an instance, an observation, an input vector, or a feature vector.\\n\\nThe batch size is a hyperparameter that defines the number of samples to work through before updating the internal model parameters. A training dataset can be divided into one or more batches.\\n\\n• When all training samples are used to create one batch, the learning algorithm is called batch gradient descent. When the batch is the size of one sample, the learning algorithm is called (true) stochastic gradient descent. When the batch size is more than one sample and less than the size of the training dataset, the learning algorithm is called mini-batch gradient descent. In the case of mini-batch gradient descent, popular batch sizes include 32, 64, 128 and 256 samples.'"
      ]
     },
     "execution_count": 17,
     "metadata": {},
     "output_type": "execute_result"
    }
   ],
   "source": [
    "lec_contexts[181]"
   ]
  },
  {
   "cell_type": "code",
   "execution_count": 180,
   "metadata": {},
   "outputs": [],
   "source": [
    "from langchain.output_parsers import ResponseSchema\n",
    "from langchain.output_parsers import StructuredOutputParser\n",
    "\n",
    "question_schema = ResponseSchema(\n",
    "    name=\"question\",\n",
    "    description=\"a question about the context.\"\n",
    ")\n",
    "\n",
    "question_response_schemas = [\n",
    "    question_schema,\n",
    "]"
   ]
  },
  {
   "cell_type": "code",
   "execution_count": 181,
   "metadata": {},
   "outputs": [],
   "source": [
    "question_output_parser = StructuredOutputParser.from_response_schemas(question_response_schemas)\n",
    "format_instructions = question_output_parser.get_format_instructions()"
   ]
  },
  {
   "cell_type": "code",
   "execution_count": 182,
   "metadata": {},
   "outputs": [],
   "source": [
    "from langchain_core.prompts import ChatPromptTemplate\n",
    "from langchain_openai.chat_models import ChatOpenAI\n",
    "\n",
    "question_generation_model = ChatOpenAI(model=\"TheBloke/Mistral-7B-Instruct-v0.2-GGUF/mistral-7b-instruct-v0.2.Q5_K_M.gguf\", base_url=\"http://localhost:1234/v1\", api_key=\"lm-studio\", temperature=0)\n",
    "# question_generation_model = ChatOpenAI(model_name=\"gpt-3.5-turbo\", temperature=0)\n",
    "\n",
    "qa_template = \"\"\"\\\n",
    "You are a University Professor creating a test for advanced students. For each context, create a question that is specific to the context. Avoid creating generic or general questions.\n",
    "\n",
    "question: a question about the context.\n",
    "context: {context}\n",
    "\n",
    "Format the output as JSON with the following keys:\n",
    "question\n",
    "\"\"\"\n",
    "\n",
    "prompt_template = ChatPromptTemplate.from_template(template=qa_template)\n",
    "\n",
    "messages = prompt_template.format_messages(\n",
    "    context=arxiv_contexts[6],\n",
    "    format_instructions=format_instructions\n",
    ")\n",
    "\n",
    "response = question_generation_model(messages)\n",
    "# output_dict = {'question': response.content, 'context': arxiv_contexts}\n",
    "output_dict = question_output_parser.parse(response.content)"
   ]
  },
  {
   "cell_type": "code",
   "execution_count": 183,
   "metadata": {},
   "outputs": [
    {
     "name": "stdout",
     "output_type": "stream",
     "text": [
      "question\n",
      "Based on the context, which attention mechanism does the Transformer use to reduce the number of operations required for relating signals from different input or output positions to a constant, and how does it counteract the effect of reduced effective resolution?\n"
     ]
    }
   ],
   "source": [
    "for k, v in output_dict.items():\n",
    "  print(k)\n",
    "  print(v)"
   ]
  },
  {
   "cell_type": "code",
   "execution_count": 157,
   "metadata": {},
   "outputs": [
    {
     "data": {
      "text/plain": [
       "'tokens in the sequence. To this end, we add \"positional encodings\" to the input embeddings at the\\nbottoms of the encoder and decoder stacks. The positional encodings have the same dimension dmodel\\nas the embeddings, so that the two can be summed. There are many choices of positional encodings,\\nlearned and fixed [9].\\nIn this work, we use sine and cosine functions of different frequencies:\\nPE(pos,2i) = sin(pos/100002i/dmodel)\\nPE(pos,2i+1) = cos(pos/100002i/dmodel)\\nwhere pos is the position and i is the dimension. That is, each dimension of the positional encoding\\ncorresponds to a sinusoid. The wavelengths form a geometric progression from 2π to 10000 · 2π. We\\nchose this function because we hypothesized it would allow the model to easily learn to attend by\\nrelative positions, since for any fixed offset k, PEpos+k can be represented as a linear function of\\nPEpos.\\nWe also experimented with using learned positional embeddings [9] instead, and found that the two'"
      ]
     },
     "execution_count": 157,
     "metadata": {},
     "output_type": "execute_result"
    }
   ],
   "source": [
    "arxiv_contexts[19]"
   ]
  },
  {
   "cell_type": "code",
   "execution_count": 186,
   "metadata": {},
   "outputs": [
    {
     "name": "stderr",
     "output_type": "stream",
     "text": [
      " 32%|███▏      | 12/37 [00:12<00:44,  1.78s/it]"
     ]
    },
    {
     "name": "stdout",
     "output_type": "stream",
     "text": [
      "Exception: {'question': 'In the context of decoder design, what role does the third sub-layer in each decoder layer perform and how is it different from the encoder layers?', 'context': 'Decoder:\\nThe decoder is also composed of a stack of N = 6 identical layers. In addition to the two\\nsub-layers in each encoder layer, the decoder inserts a third sub-layer, which performs multi-head\\nattention over the output of the encoder stack. Similar to the encoder, we employ residual connections\\naround each of the sub-layers, followed by layer normalization. We also modify the self-attention\\nsub-layer in the decoder stack to prevent positions from attending to subsequent positions. This\\nmasking, combined with fact that the output embeddings are offset by one position, ensures that the\\npredictions for position i can depend only on the known outputs at positions less than i.\\n3.2\\nAttention\\nAn attention function can be described as mapping a query and a set of key-value pairs to an output,\\nwhere the query, keys, values, and output are all vectors. The output is computed as a weighted sum\\n3\\nScaled Dot-Product Attention\\nMulti-Head Attention'}\n"
     ]
    },
    {
     "name": "stderr",
     "output_type": "stream",
     "text": [
      "100%|██████████| 37/37 [00:37<00:00,  1.03s/it]\n"
     ]
    }
   ],
   "source": [
    "from tqdm import tqdm\n",
    "\n",
    "qac_triples = []\n",
    "\n",
    "for context in tqdm(arxiv_contexts):\n",
    "  messages = prompt_template.format_messages(\n",
    "      context=context,\n",
    "      format_instructions=format_instructions\n",
    "  )\n",
    "  response = question_generation_model(messages)\n",
    "  try:\n",
    "    output_dict = question_output_parser.parse(response.content)\n",
    "  except Exception as e:\n",
    "    print(f\"Exception: {output_dict}\")\n",
    "    continue\n",
    "  output_dict[\"context\"] = context\n",
    "  # print(output_dict)\n",
    "  qac_triples.append(output_dict)"
   ]
  },
  {
   "cell_type": "code",
   "execution_count": 190,
   "metadata": {},
   "outputs": [
    {
     "data": {
      "text/plain": [
       "'Decoder:\\nThe decoder is also composed of a stack of N = 6 identical layers. In addition to the two\\nsub-layers in each encoder layer, the decoder inserts a third sub-layer, which performs multi-head\\nattention over the output of the encoder stack. Similar to the encoder, we employ residual connections\\naround each of the sub-layers, followed by layer normalization. We also modify the self-attention\\nsub-layer in the decoder stack to prevent positions from attending to subsequent positions. This\\nmasking, combined with fact that the output embeddings are offset by one position, ensures that the\\npredictions for position i can depend only on the known outputs at positions less than i.\\n3.2\\nAttention\\nAn attention function can be described as mapping a query and a set of key-value pairs to an output,\\nwhere the query, keys, values, and output are all vectors. The output is computed as a weighted sum\\n3\\nScaled Dot-Product Attention\\nMulti-Head Attention'"
      ]
     },
     "execution_count": 190,
     "metadata": {},
     "output_type": "execute_result"
    }
   ],
   "source": [
    "arxiv_contexts[10]"
   ]
  },
  {
   "cell_type": "code",
   "execution_count": 177,
   "metadata": {},
   "outputs": [
    {
     "data": {
      "text/plain": [
       "{'question': 'Given the context of multi-head attention with unscaled dot product attention for large values of dk, why do we suspect that the dot products grow large in magnitude and what is done to mitigate this effect?',\n",
       " 'context': 'dot product attention without scaling for larger values of dk [3]. We suspect that for large values of\\ndk, the dot products grow large in magnitude, pushing the softmax function into regions where it has\\nextremely small gradients 4. To counteract this effect, we scale the dot products by\\n1\\n√dk .\\n3.2.2\\nMulti-Head Attention\\nInstead of performing a single attention function with dmodel-dimensional keys, values and queries,\\nwe found it beneficial to linearly project the queries, keys and values h times with different, learned\\nlinear projections to dk, dk and dv dimensions, respectively. On each of these projected versions of\\nqueries, keys and values we then perform the attention function in parallel, yielding dv-dimensional\\n4To illustrate why the dot products get large, assume that the components of q and k are independent random\\nvariables with mean 0 and variance 1. Then their dot product, q · k = Pdk\\ni=1 qiki, has mean 0 and variance dk.\\n4',\n",
       " 'answer': 'For large values of dk in multi-head attention with unscaled dot product attention, we suspect that the dot products grow large in magnitude due to the independent random variables q and k having a mean of 0 and variance of dk. This can push the softmax function into regions where it has extremely small gradients. To mitigate this effect, we scale the dot products by 1/√dk.'}"
      ]
     },
     "execution_count": 177,
     "metadata": {},
     "output_type": "execute_result"
    }
   ],
   "source": [
    "qac_triples[12]"
   ]
  },
  {
   "cell_type": "code",
   "execution_count": 160,
   "metadata": {},
   "outputs": [],
   "source": [
    "primary_ground_truth_llm = ChatOpenAI(model=\"TheBloke/Mistral-7B-Instruct-v0.2-GGUF/mistral-7b-instruct-v0.2.Q5_K_M.gguf\", base_url=\"http://localhost:1234/v1\", api_key=\"lm-studio\", temperature=0)\n",
    "# primary_ground_truth_llm = ChatOpenAI(model_name=\"gpt-4\", temperature=0)\n",
    "\n",
    "answer_schema = ResponseSchema(\n",
    "    name=\"answer\",\n",
    "    description=\"an answer to the question\"\n",
    ")\n",
    "\n",
    "answer_response_schemas = [\n",
    "    answer_schema,\n",
    "]\n",
    "\n",
    "answer_output_parser = StructuredOutputParser.from_response_schemas(answer_response_schemas)\n",
    "format_instructions = answer_output_parser.get_format_instructions()\n",
    "\n",
    "qa_template = \"\"\"\\\n",
    "You are a University Professor creating a test for advanced students. For each question and context, create an answer.\n",
    "\n",
    "answer: an answer to the question.\n",
    "question: {question}\n",
    "context: {context}\n",
    "\n",
    "Format the output as JSON with the following keys:\n",
    "answer\n",
    "\"\"\"\n",
    "\n",
    "prompt_template = ChatPromptTemplate.from_template(template=qa_template)\n",
    "\n",
    "messages = prompt_template.format_messages(\n",
    "    context=qac_triples[0][\"context\"],\n",
    "    question=qac_triples[0][\"question\"],\n",
    "    format_instructions=format_instructions\n",
    ")\n",
    "\n",
    "response = primary_ground_truth_llm(messages)\n",
    "output_dict = answer_output_parser.parse(response.content)"
   ]
  },
  {
   "cell_type": "code",
   "execution_count": 161,
   "metadata": {},
   "outputs": [
    {
     "name": "stdout",
     "output_type": "stream",
     "text": [
      "answer\n",
      "The Transformer model replaces complex recurrent or convolutional neural networks with attention mechanisms in sequence transduction tasks, according to the context of the paper.\n"
     ]
    }
   ],
   "source": [
    "for k, v in output_dict.items():\n",
    "  print(k)\n",
    "  print(v)"
   ]
  },
  {
   "cell_type": "code",
   "execution_count": 162,
   "metadata": {},
   "outputs": [
    {
     "name": "stderr",
     "output_type": "stream",
     "text": [
      " 64%|██████▍   | 23/36 [00:34<00:31,  2.45s/it]"
     ]
    },
    {
     "name": "stdout",
     "output_type": "stream",
     "text": [
      "Exception\n"
     ]
    },
    {
     "name": "stderr",
     "output_type": "stream",
     "text": [
      "100%|██████████| 36/36 [00:50<00:00,  1.42s/it]\n"
     ]
    }
   ],
   "source": [
    "for triple in tqdm(qac_triples):\n",
    "  messages = prompt_template.format_messages(\n",
    "      context=triple[\"context\"],\n",
    "      question=triple[\"question\"],\n",
    "      format_instructions=format_instructions\n",
    "  )\n",
    "  response = primary_ground_truth_llm(messages)\n",
    "  try:\n",
    "    output_dict = answer_output_parser.parse(response.content)\n",
    "  except Exception as e:\n",
    "    print(\"Exception\")\n",
    "    continue\n",
    "  triple[\"answer\"] = output_dict[\"answer\"]"
   ]
  },
  {
   "cell_type": "code",
   "execution_count": 149,
   "metadata": {},
   "outputs": [
    {
     "data": {
      "text/plain": [
       "[{'question': \"In the context of the paper 'Attention Is All You Need', what role do attention mechanisms play in the proposed Transformer model?\",\n",
       "  'context': 'Provided proper attribution is provided, Google hereby grants permission to\\nreproduce the tables and figures in this paper solely for use in journalistic or\\nscholarly works.\\nAttention Is All You Need\\nAshish Vaswani∗\\nGoogle Brain\\navaswani@google.com\\nNoam Shazeer∗\\nGoogle Brain\\nnoam@google.com\\nNiki Parmar∗\\nGoogle Research\\nnikip@google.com\\nJakob Uszkoreit∗\\nGoogle Research\\nusz@google.com\\nLlion Jones∗\\nGoogle Research\\nllion@google.com\\nAidan N. Gomez∗†\\nUniversity of Toronto\\naidan@cs.toronto.edu\\nŁukasz Kaiser∗\\nGoogle Brain\\nlukaszkaiser@google.com\\nIllia Polosukhin∗‡\\nillia.polosukhin@gmail.com\\nAbstract\\nThe dominant sequence transduction models are based on complex recurrent or\\nconvolutional neural networks that include an encoder and a decoder. The best\\nperforming models also connect the encoder and decoder through an attention\\nmechanism. We propose a new simple network architecture, the Transformer,\\nbased solely on attention mechanisms, dispensing with recurrence and convolutions',\n",
       "  'answer': \"In the 'Attention Is All You Need' paper, attention mechanisms play a crucial role in the proposed Transformer model as they replace the need for recurrent and convolutional neural networks. The Transformer model is designed solely based on self-attention mechanisms to encode and decode sequences.\"},\n",
       " {'question': 'Given the context about the Transformer model, which outperforms existing models in machine translation tasks using only attention mechanisms and achieves significant improvements in quality and training time, identify the new single-model state-of-the-art BLEU score for the English-to-French translation task.',\n",
       "  'context': 'mechanism. We propose a new simple network architecture, the Transformer,\\nbased solely on attention mechanisms, dispensing with recurrence and convolutions\\nentirely. Experiments on two machine translation tasks show these models to\\nbe superior in quality while being more parallelizable and requiring significantly\\nless time to train. Our model achieves 28.4 BLEU on the WMT 2014 English-\\nto-German translation task, improving over the existing best results, including\\nensembles, by over 2 BLEU. On the WMT 2014 English-to-French translation task,\\nour model establishes a new single-model state-of-the-art BLEU score of 41.8 after\\ntraining for 3.5 days on eight GPUs, a small fraction of the training costs of the\\nbest models from the literature. We show that the Transformer generalizes well to\\nother tasks by applying it successfully to English constituency parsing both with\\nlarge and limited training data.',\n",
       "  'answer': 'The new single-model state-of-the-art BLEU score for the English-to-French translation task is 41.8.'},\n",
       " {'question': 'Which researchers were instrumental in the development of the Transformer model, specifically contributing to the design, implementation, and evaluation of this model? Please list them along with their significant contributions.',\n",
       "  'context': 'best models from the literature. We show that the Transformer generalizes well to\\nother tasks by applying it successfully to English constituency parsing both with\\nlarge and limited training data.\\n∗Equal contribution. Listing order is random. Jakob proposed replacing RNNs with self-attention and started\\nthe effort to evaluate this idea. Ashish, with Illia, designed and implemented the first Transformer models and\\nhas been crucially involved in every aspect of this work. Noam proposed scaled dot-product attention, multi-head\\nattention and the parameter-free position representation and became the other person involved in nearly every\\ndetail. Niki designed, implemented, tuned and evaluated countless model variants in our original codebase and\\ntensor2tensor. Llion also experimented with novel model variants, was responsible for our initial codebase, and\\nefficient inference and visualizations. Lukasz and Aidan spent countless long days designing various parts of and',\n",
       "  'answer': [{'researcher': 'Jakob Uszkoreit',\n",
       "    'contribution': 'Proposed replacing Recurrent Neural Networks (RNNs) with self-attention and initiated the evaluation of this idea.'},\n",
       "   {'researcher': 'Ashish Vaswani, Illia Polosukhin',\n",
       "    'contribution': 'Designed and implemented the first Transformer models and have been crucially involved in every aspect of this work.'},\n",
       "   {'researcher': 'Noam Shazeer',\n",
       "    'contribution': 'Proposed scaled dot-product attention, multi-head attention, and the parameter-free position representation. Involved in nearly every detail.'},\n",
       "   {'researcher': 'Niki Parmar',\n",
       "    'contribution': 'Designed, implemented, tuned, and evaluated countless model variants in your original codebase and tensor2tensor.'},\n",
       "   {'researcher': 'Llion Jones',\n",
       "    'contribution': 'Experimented with novel model variants, responsible for the initial codebase, efficient inference, and visualizations.'},\n",
       "   {'researcher': 'Lukasz Kaiser, Aidan Nocera',\n",
       "    'contribution': 'Designed various parts of the Transformer model and spent countless long days on its development.'}]},\n",
       " {'question': 'In the context of the paper, what specific contributions did Lukasz and Aidan make towards the design and implementation of tensor2tensor that led to improved results and accelerated research in sequence modeling?',\n",
       "  'context': 'efficient inference and visualizations. Lukasz and Aidan spent countless long days designing various parts of and\\nimplementing tensor2tensor, replacing our earlier codebase, greatly improving results and massively accelerating\\nour research.\\n†Work performed while at Google Brain.\\n‡Work performed while at Google Research.\\n31st Conference on Neural Information Processing Systems (NIPS 2017), Long Beach, CA, USA.\\narXiv:1706.03762v7  [cs.CL]  2 Aug 2023\\n1\\nIntroduction\\nRecurrent neural networks, long short-term memory [13] and gated recurrent [7] neural networks\\nin particular, have been firmly established as state of the art approaches in sequence modeling and\\ntransduction problems such as language modeling and machine translation [35, 2, 5]. Numerous\\nefforts have since continued to push the boundaries of recurrent language models and encoder-decoder\\narchitectures [38, 24, 15].\\nRecurrent models typically factor computation along the symbol positions of the input and output',\n",
       "  'answer': 'Lukasz and Aidan made significant contributions towards the design and implementation of tensor2tensor, which led to improved results and accelerated research in sequence modeling. However, the context does not provide specific details about their contributions. It only mentions that they spent long days designing and implementing various parts of tensor2tensor, replacing an earlier codebase, and improving results. Therefore, a definitive answer cannot be given without additional information.'},\n",
       " {'question': 'Given the context about recurrent models and attention mechanisms in sequence modeling, explain how recent work has addressed the fundamental constraint of sequential computation in recurrent models?',\n",
       "  'context': 'architectures [38, 24, 15].\\nRecurrent models typically factor computation along the symbol positions of the input and output\\nsequences. Aligning the positions to steps in computation time, they generate a sequence of hidden\\nstates ht, as a function of the previous hidden state ht−1 and the input for position t. This inherently\\nsequential nature precludes parallelization within training examples, which becomes critical at longer\\nsequence lengths, as memory constraints limit batching across examples. Recent work has achieved\\nsignificant improvements in computational efficiency through factorization tricks [21] and conditional\\ncomputation [32], while also improving model performance in case of the latter. The fundamental\\nconstraint of sequential computation, however, remains.\\nAttention mechanisms have become an integral part of compelling sequence modeling and transduc-\\ntion models in various tasks, allowing modeling of dependencies without regard to their distance in',\n",
       "  'answer': 'Recent research has addressed the fundamental constraint of sequential computation in recurrent models by introducing Transformer architectures [37], which replace the recurrent nature with self-attention mechanisms. In these models, each position in a sequence attends to all other positions, allowing for parallelization during both training and inference. This leads to significant improvements in computational efficiency and handling longer sequences compared to traditional recurrent models.'},\n",
       " {'question': 'In the given context, what model architecture is proposed to rely entirely on an attention mechanism for drawing global dependencies between input and output sequences?',\n",
       "  'context': 'Attention mechanisms have become an integral part of compelling sequence modeling and transduc-\\ntion models in various tasks, allowing modeling of dependencies without regard to their distance in\\nthe input or output sequences [2, 19]. In all but a few cases [27], however, such attention mechanisms\\nare used in conjunction with a recurrent network.\\nIn this work we propose the Transformer, a model architecture eschewing recurrence and instead\\nrelying entirely on an attention mechanism to draw global dependencies between input and output.\\nThe Transformer allows for significantly more parallelization and can reach a new state of the art in\\ntranslation quality after being trained for as little as twelve hours on eight P100 GPUs.\\n2\\nBackground\\nThe goal of reducing sequential computation also forms the foundation of the Extended Neural GPU\\n[16], ByteNet [18] and ConvS2S [9], all of which use convolutional neural networks as basic building',\n",
       "  'answer': 'The Transformer model architecture is proposed in the context to rely entirely on an attention mechanism for drawing global dependencies between input and output sequences.'},\n",
       " {'question': 'In the context of Transformer models, how does self-attention (also known as intra-attention) reduce the number of operations required to relate signals from different positions compared to ConvS2S and ByteNet?',\n",
       "  'context': 'The goal of reducing sequential computation also forms the foundation of the Extended Neural GPU\\n[16], ByteNet [18] and ConvS2S [9], all of which use convolutional neural networks as basic building\\nblock, computing hidden representations in parallel for all input and output positions. In these models,\\nthe number of operations required to relate signals from two arbitrary input or output positions grows\\nin the distance between positions, linearly for ConvS2S and logarithmically for ByteNet. This makes\\nit more difficult to learn dependencies between distant positions [12]. In the Transformer this is\\nreduced to a constant number of operations, albeit at the cost of reduced effective resolution due\\nto averaging attention-weighted positions, an effect we counteract with Multi-Head Attention as\\ndescribed in section 3.2.\\nSelf-attention, sometimes called intra-attention is an attention mechanism relating different positions',\n",
       "  'answer': 'In Transformer models, self-attention (also known as intra-attention) reduces the number of operations required to relate signals from different positions compared to ConvS2S and ByteNet by allowing all positions of an input sequence to attend to all other positions. This is in contrast to ConvS2S and ByteNet, which require a growing number of operations as the distance between positions increases. Self-attention achieves this through parallel computation of attention scores for all position pairs, resulting in a constant number of operations regardless of the distance between positions.'},\n",
       " {'question': 'Which model is the first transduction model to rely entirely on self-attention for input and output representation without using sequence-aligned RNNs or convolution?',\n",
       "  'context': 'described in section 3.2.\\nSelf-attention, sometimes called intra-attention is an attention mechanism relating different positions\\nof a single sequence in order to compute a representation of the sequence. Self-attention has been\\nused successfully in a variety of tasks including reading comprehension, abstractive summarization,\\ntextual entailment and learning task-independent sentence representations [4, 27, 28, 22].\\nEnd-to-end memory networks are based on a recurrent attention mechanism instead of sequence-\\naligned recurrence and have been shown to perform well on simple-language question answering and\\nlanguage modeling tasks [34].\\nTo the best of our knowledge, however, the Transformer is the first transduction model relying\\nentirely on self-attention to compute representations of its input and output without using sequence-\\naligned RNNs or convolution. In the following sections, we will describe the Transformer, motivate',\n",
       "  'answer': 'The Transformer is the first transduction model to rely entirely on self-attention for input and output representation without using sequence-aligned RNNs or convolution.'},\n",
       " {'question': 'In the context of the Transformer model, which components are responsible for self-attention and point-wise, fully connected layers in the encoder and decoder?',\n",
       "  'context': 'aligned RNNs or convolution. In the following sections, we will describe the Transformer, motivate\\nself-attention and discuss its advantages over models such as [17, 18] and [9].\\n3\\nModel Architecture\\nMost competitive neural sequence transduction models have an encoder-decoder structure [5, 2, 35].\\nHere, the encoder maps an input sequence of symbol representations (x1, ..., xn) to a sequence\\nof continuous representations z = (z1, ..., zn). Given z, the decoder then generates an output\\nsequence (y1, ..., ym) of symbols one element at a time. At each step the model is auto-regressive\\n[10], consuming the previously generated symbols as additional input when generating the next.\\n2\\nFigure 1: The Transformer - model architecture.\\nThe Transformer follows this overall architecture using stacked self-attention and point-wise, fully\\nconnected layers for both the encoder and decoder, shown in the left and right halves of Figure 1,\\nrespectively.\\n3.1\\nEncoder and Decoder Stacks\\nEncoder:',\n",
       "  'answer': 'In the context of the Transformer model, the self-attention mechanism is responsible for the multi-head attention components in both the encoder and decoder. Point-wise, fully connected layers are used after each self-attention layer in the encoder and decoder for further processing.'},\n",
       " {'question': 'Given the context about the encoder and decoder stacks in a transformer model, identify and explain the function of the third sub-layer in each decoder layer.',\n",
       "  'context': 'connected layers for both the encoder and decoder, shown in the left and right halves of Figure 1,\\nrespectively.\\n3.1\\nEncoder and Decoder Stacks\\nEncoder:\\nThe encoder is composed of a stack of N = 6 identical layers. Each layer has two\\nsub-layers. The first is a multi-head self-attention mechanism, and the second is a simple, position-\\nwise fully connected feed-forward network. We employ a residual connection [11] around each of\\nthe two sub-layers, followed by layer normalization [1]. That is, the output of each sub-layer is\\nLayerNorm(x + Sublayer(x)), where Sublayer(x) is the function implemented by the sub-layer\\nitself. To facilitate these residual connections, all sub-layers in the model, as well as the embedding\\nlayers, produce outputs of dimension dmodel = 512.\\nDecoder:\\nThe decoder is also composed of a stack of N = 6 identical layers. In addition to the two\\nsub-layers in each encoder layer, the decoder inserts a third sub-layer, which performs multi-head',\n",
       "  'answer': 'The third sub-layer in each decoder layer is responsible for multi-head attention mechanism. This sub-layer helps the decoder to attend to information from different representation subspaces at different positions and relations. It complements the first two sub-layers, which are a multi-head self-attention mechanism and a simple feed-forward network in each decoder layer, respectively.'},\n",
       " {'question': 'Given the context about a decoder in a transformer model, which attention mechanism is used specifically in the decoder to help generate the next word based on the previous words?',\n",
       "  'answer': 'The Multi-Head Attention mechanism is used specifically in the decoder to help generate the next word based on the previous words.',\n",
       "  'context': 'Decoder:\\nThe decoder is also composed of a stack of N = 6 identical layers. In addition to the two\\nsub-layers in each encoder layer, the decoder inserts a third sub-layer, which performs multi-head\\nattention over the output of the encoder stack. Similar to the encoder, we employ residual connections\\naround each of the sub-layers, followed by layer normalization. We also modify the self-attention\\nsub-layer in the decoder stack to prevent positions from attending to subsequent positions. This\\nmasking, combined with fact that the output embeddings are offset by one position, ensures that the\\npredictions for position i can depend only on the known outputs at positions less than i.\\n3.2\\nAttention\\nAn attention function can be described as mapping a query and a set of key-value pairs to an output,\\nwhere the query, keys, values, and output are all vectors. The output is computed as a weighted sum\\n3\\nScaled Dot-Product Attention\\nMulti-Head Attention'},\n",
       " {'question': 'Given a set of queries Q, keys K, and values V, where all vectors have dimensions dk for keys and values, and dv for values, how would you compute the outputs using Scaled Dot-Product Attention?',\n",
       "  'context': 'where the query, keys, values, and output are all vectors. The output is computed as a weighted sum\\n3\\nScaled Dot-Product Attention\\nMulti-Head Attention\\nFigure 2: (left) Scaled Dot-Product Attention. (right) Multi-Head Attention consists of several\\nattention layers running in parallel.\\nof the values, where the weight assigned to each value is computed by a compatibility function of the\\nquery with the corresponding key.\\n3.2.1\\nScaled Dot-Product Attention\\nWe call our particular attention \"Scaled Dot-Product Attention\" (Figure 2). The input consists of\\nqueries and keys of dimension dk, and values of dimension dv. We compute the dot products of the\\nquery with all keys, divide each by √dk, and apply a softmax function to obtain the weights on the\\nvalues.\\nIn practice, we compute the attention function on a set of queries simultaneously, packed together\\ninto a matrix Q. The keys and values are also packed together into matrices K and V . We compute\\nthe matrix of outputs as:',\n",
       "  'answer': 'To perform Scaled Dot-Product Attention, you need to follow these steps:\\n1. Compute the dot product of queries (Q) and keys (K).\\n2. Divide each dot product by the square root of the dimension of keys (dk).\\n3. Apply a softmax function on the results to obtain weights.\\n4. Multiply the weights with values (V).\\n5. Sum up the results across all heads to get the final output.'},\n",
       " {'question': 'Given the context about Attention mechanisms in deep learning, compare and contrast the computational complexities and practical efficiencies of dot-product attention and additive attention. Which mechanism is preferred for larger values of dk?',\n",
       "  'context': 'into a matrix Q. The keys and values are also packed together into matrices K and V . We compute\\nthe matrix of outputs as:\\nAttention(Q, K, V ) = softmax(QKT\\n√dk\\n)V\\n(1)\\nThe two most commonly used attention functions are additive attention [2], and dot-product (multi-\\nplicative) attention. Dot-product attention is identical to our algorithm, except for the scaling factor\\nof\\n1\\n√dk . Additive attention computes the compatibility function using a feed-forward network with\\na single hidden layer. While the two are similar in theoretical complexity, dot-product attention is\\nmuch faster and more space-efficient in practice, since it can be implemented using highly optimized\\nmatrix multiplication code.\\nWhile for small values of dk the two mechanisms perform similarly, additive attention outperforms\\ndot product attention without scaling for larger values of dk [3]. We suspect that for large values of',\n",
       "  'answer': 'For larger values of dk in the context of attention mechanisms in deep learning, additive attention may outperform dot-product attention without scaling due to its ability to process larger key dimensions. However, dot-product attention is faster and more space-efficient in practice due to its implementation using highly optimized matrix multiplication code. Theoretically, both have similar complexities, but the practical efficiency of dot-product attention makes it a preferred choice for larger values of dk.'},\n",
       " {'question': 'Given a multi-head attention mechanism with dmodel, dk, and dv dimensions, why do we scale the dot products by 1/√dk in large value of dk contexts?',\n",
       "  'context': 'dot product attention without scaling for larger values of dk [3]. We suspect that for large values of\\ndk, the dot products grow large in magnitude, pushing the softmax function into regions where it has\\nextremely small gradients 4. To counteract this effect, we scale the dot products by\\n1\\n√dk .\\n3.2.2\\nMulti-Head Attention\\nInstead of performing a single attention function with dmodel-dimensional keys, values and queries,\\nwe found it beneficial to linearly project the queries, keys and values h times with different, learned\\nlinear projections to dk, dk and dv dimensions, respectively. On each of these projected versions of\\nqueries, keys and values we then perform the attention function in parallel, yielding dv-dimensional\\n4To illustrate why the dot products get large, assume that the components of q and k are independent random\\nvariables with mean 0 and variance 1. Then their dot product, q · k = Pdk\\ni=1 qiki, has mean 0 and variance dk.\\n4',\n",
       "  'answer': 'The scaling of dot products by 1/√dk in large value of dk contexts is to prevent the softmax function from having extremely small gradients due to large magnitudes of the dot products. This issue arises because the variance of the dot product of independent random variables q and k, with mean 0 and variance 1, grows linearly with dk.'},\n",
       " {'question': 'Given the context about multi-head attention, calculate the dimension of each projection matrix W Qi, Wi, and Wo in the equation MultiHead(Q, K, V) = Concat(head1, ..., headh)W O.',\n",
       "  'context': 'variables with mean 0 and variance 1. Then their dot product, q · k = Pdk\\ni=1 qiki, has mean 0 and variance dk.\\n4\\noutput values. These are concatenated and once again projected, resulting in the final values, as\\ndepicted in Figure 2.\\nMulti-head attention allows the model to jointly attend to information from different representation\\nsubspaces at different positions. With a single attention head, averaging inhibits this.\\nMultiHead(Q, K, V ) = Concat(head1, ..., headh)W O\\nwhere headi = Attention(QW Q\\ni , KW K\\ni , V W V\\ni )\\nWhere the projections are parameter matrices W Q\\ni\\n∈Rdmodel×dk, W K\\ni\\n∈Rdmodel×dk, W V\\ni\\n∈Rdmodel×dv\\nand W O ∈Rhdv×dmodel.\\nIn this work we employ h = 8 parallel attention layers, or heads. For each of these we use\\ndk = dv = dmodel/h = 64. Due to the reduced dimension of each head, the total computational cost\\nis similar to that of single-head attention with full dimensionality.\\n3.2.3\\nApplications of Attention in our Model',\n",
       "  'answer': {'W_Qi': 'Rdmodel×dk',\n",
       "   'W_Ki': 'Rdmodel×dk',\n",
       "   'W_Vi': 'Rdmodel×dv',\n",
       "   'W_O': 'Rhdv×dmodel'}},\n",
       " {'question': 'In which part of the Transformer model does each position in the encoder attend to all positions in the previous layer of the encoder?',\n",
       "  'answer': 'Each position in the encoder attends to all positions in the previous layer of the encoder in the self-attention layers of the encoder.',\n",
       "  'context': 'is similar to that of single-head attention with full dimensionality.\\n3.2.3\\nApplications of Attention in our Model\\nThe Transformer uses multi-head attention in three different ways:\\n• In \"encoder-decoder attention\" layers, the queries come from the previous decoder layer,\\nand the memory keys and values come from the output of the encoder. This allows every\\nposition in the decoder to attend over all positions in the input sequence. This mimics the\\ntypical encoder-decoder attention mechanisms in sequence-to-sequence models such as\\n[38, 2, 9].\\n• The encoder contains self-attention layers. In a self-attention layer all of the keys, values\\nand queries come from the same place, in this case, the output of the previous layer in the\\nencoder. Each position in the encoder can attend to all positions in the previous layer of the\\nencoder.\\n• Similarly, self-attention layers in the decoder allow each position in the decoder to attend to'},\n",
       " {'question': 'Given the context of an encoder-decoder model with position-wise self-attention and feed-forward networks, how does the scaled dot-product attention in the decoder prevent leftward information flow while maintaining the auto-regressive property?',\n",
       "  'context': 'encoder.\\n• Similarly, self-attention layers in the decoder allow each position in the decoder to attend to\\nall positions in the decoder up to and including that position. We need to prevent leftward\\ninformation flow in the decoder to preserve the auto-regressive property. We implement this\\ninside of scaled dot-product attention by masking out (setting to −∞) all values in the input\\nof the softmax which correspond to illegal connections. See Figure 2.\\n3.3\\nPosition-wise Feed-Forward Networks\\nIn addition to attention sub-layers, each of the layers in our encoder and decoder contains a fully\\nconnected feed-forward network, which is applied to each position separately and identically. This\\nconsists of two linear transformations with a ReLU activation in between.\\nFFN(x) = max(0, xW1 + b1)W2 + b2\\n(2)\\nWhile the linear transformations are the same across different positions, they use different parameters',\n",
       "  'answer': 'The scaled dot-product attention in the decoder prevents leftward information flow by masking out illegal connections during the attention calculation. This is done inside the softmax function, where all values corresponding to positions before the current position are set to negative infinity. This ensures that the decoder only attends to information up to and including its current position, preserving the auto-regressive property.'},\n",
       " {'question': 'Given the context about a neural network model using ReLU activation functions, convolutions, and learned embeddings, calculate the dimensionality of the inner-layer (dff) and the dimensionality of the output (dmodel). Also, explain how the weights are shared between different layers.',\n",
       "  'context': 'FFN(x) = max(0, xW1 + b1)W2 + b2\\n(2)\\nWhile the linear transformations are the same across different positions, they use different parameters\\nfrom layer to layer. Another way of describing this is as two convolutions with kernel size 1.\\nThe dimensionality of input and output is dmodel = 512, and the inner-layer has dimensionality\\ndff = 2048.\\n3.4\\nEmbeddings and Softmax\\nSimilarly to other sequence transduction models, we use learned embeddings to convert the input\\ntokens and output tokens to vectors of dimension dmodel. We also use the usual learned linear transfor-\\nmation and softmax function to convert the decoder output to predicted next-token probabilities. In\\nour model, we share the same weight matrix between the two embedding layers and the pre-softmax\\nlinear transformation, similar to [30]. In the embedding layers, we multiply those weights by √dmodel.\\n5\\nTable 1: Maximum path lengths, per-layer complexity and minimum number of sequential operations',\n",
       "  'answer': {'inner_layer_dimensionality': 2048,\n",
       "   'output_layer_dimensionality': 512,\n",
       "   'explanation': 'The context states that the inner-layer (dff) has a dimensionality of 2048 and the output layer (dmodel) has a dimensionality of 512. The weights are shared between different layers in the sense that the same weight matrix is used for the embedding layers and the pre-softmax linear transformation.'}},\n",
       " {'question': 'Given the context about different layer types and their complexities, sequential operations, and maximum path lengths, calculate the complexity per layer for a Self-Attention (restricted) layer with a sequence length of 10, representation dimension of 512, and neighborhood size of 32.',\n",
       "  'context': '5\\nTable 1: Maximum path lengths, per-layer complexity and minimum number of sequential operations\\nfor different layer types. n is the sequence length, d is the representation dimension, k is the kernel\\nsize of convolutions and r the size of the neighborhood in restricted self-attention.\\nLayer Type\\nComplexity per Layer\\nSequential\\nMaximum Path Length\\nOperations\\nSelf-Attention\\nO(n2 · d)\\nO(1)\\nO(1)\\nRecurrent\\nO(n · d2)\\nO(n)\\nO(n)\\nConvolutional\\nO(k · n · d2)\\nO(1)\\nO(logk(n))\\nSelf-Attention (restricted)\\nO(r · n · d)\\nO(1)\\nO(n/r)\\n3.5\\nPositional Encoding\\nSince our model contains no recurrence and no convolution, in order for the model to make use of the\\norder of the sequence, we must inject some information about the relative or absolute position of the\\ntokens in the sequence. To this end, we add \"positional encodings\" to the input embeddings at the\\nbottoms of the encoder and decoder stacks. The positional encodings have the same dimension dmodel',\n",
       "  'answer': 'The complexity per layer for a Self-Attention (restricted) layer with a sequence length of 10, representation dimension of 512, and neighborhood size of 32 is calculated as O(r · n · d), where r is the neighborhood size, n is the sequence length, and d is the representation dimension. Substituting the given values, we get a complexity of O(32 · 10 · 512) = O(163840).'},\n",
       " {'question': 'In the given context, which functions are used for generating positional encodings in this specific model?',\n",
       "  'context': 'tokens in the sequence. To this end, we add \"positional encodings\" to the input embeddings at the\\nbottoms of the encoder and decoder stacks. The positional encodings have the same dimension dmodel\\nas the embeddings, so that the two can be summed. There are many choices of positional encodings,\\nlearned and fixed [9].\\nIn this work, we use sine and cosine functions of different frequencies:\\nPE(pos,2i) = sin(pos/100002i/dmodel)\\nPE(pos,2i+1) = cos(pos/100002i/dmodel)\\nwhere pos is the position and i is the dimension. That is, each dimension of the positional encoding\\ncorresponds to a sinusoid. The wavelengths form a geometric progression from 2π to 10000 · 2π. We\\nchose this function because we hypothesized it would allow the model to easily learn to attend by\\nrelative positions, since for any fixed offset k, PEpos+k can be represented as a linear function of\\nPEpos.\\nWe also experimented with using learned positional embeddings [9] instead, and found that the two',\n",
       "  'answer': 'In the given context, the functions used for generating positional encodings in this specific model are sine and cosine functions of different frequencies.'},\n",
       " {'question': 'Why was self-attention chosen over recurrent and convolutional layers in this context, considering computational complexity and parallelization capabilities?',\n",
       "  'context': 'PEpos.\\nWe also experimented with using learned positional embeddings [9] instead, and found that the two\\nversions produced nearly identical results (see Table 3 row (E)). We chose the sinusoidal version\\nbecause it may allow the model to extrapolate to sequence lengths longer than the ones encountered\\nduring training.\\n4\\nWhy Self-Attention\\nIn this section we compare various aspects of self-attention layers to the recurrent and convolu-\\ntional layers commonly used for mapping one variable-length sequence of symbol representations\\n(x1, ..., xn) to another sequence of equal length (z1, ..., zn), with xi, zi ∈Rd, such as a hidden\\nlayer in a typical sequence transduction encoder or decoder. Motivating our use of self-attention we\\nconsider three desiderata.\\nOne is the total computational complexity per layer. Another is the amount of computation that can\\nbe parallelized, as measured by the minimum number of sequential operations required.',\n",
       "  'answer': 'Self-attention was chosen over recurrent and convolutional layers due to its superior computational complexity and parallelization capabilities in this context, as outlined in the text. The experiment results showed that self-attention and learned positional embeddings produced identical results, but sinusoidal positional embeddings may allow the model to extrapolate to longer sequences. Self-attention has a lower total computational complexity per layer compared to recurrent and convolutional layers. Additionally, it allows for more parallelization as it requires fewer sequential operations.'},\n",
       " {'question': 'Given two types of layers in a neural network, a self-attention layer and a recurrent layer, which one requires fewer sequential operations on average to connect all positions within the layer? And why does this difference impact the ability to learn long-range dependencies in the network?',\n",
       "  'context': 'One is the total computational complexity per layer. Another is the amount of computation that can\\nbe parallelized, as measured by the minimum number of sequential operations required.\\nThe third is the path length between long-range dependencies in the network. Learning long-range\\ndependencies is a key challenge in many sequence transduction tasks. One key factor affecting the\\nability to learn such dependencies is the length of the paths forward and backward signals have to\\ntraverse in the network. The shorter these paths between any combination of positions in the input\\nand output sequences, the easier it is to learn long-range dependencies [12]. Hence we also compare\\nthe maximum path length between any two input and output positions in networks composed of the\\ndifferent layer types.\\nAs noted in Table 1, a self-attention layer connects all positions with a constant number of sequentially\\nexecuted operations, whereas a recurrent layer requires O(n) sequential operations. In terms of',\n",
       "  'answer': 'A self-attention layer connects all positions with a constant number of sequentially executed operations, while a recurrent layer requires O(n) sequential operations on average. This difference impacts the ability to learn long-range dependencies in the network because self-attention layers can process information from different positions in the input sequence simultaneously, allowing for shorter paths between long-range dependencies. In contrast, recurrent layers process information sequentially, which can result in longer paths and potentially hinder the learning of long-range dependencies.'},\n",
       " {'question': 'Given a sequence length n and representation dimensionality d, under what conditions are self-attention layers faster than recurrent layers in terms of computational complexity? Also suggest a method to improve the performance for long sequences.',\n",
       "  'context': 'executed operations, whereas a recurrent layer requires O(n) sequential operations. In terms of\\ncomputational complexity, self-attention layers are faster than recurrent layers when the sequence\\n6\\nlength n is smaller than the representation dimensionality d, which is most often the case with\\nsentence representations used by state-of-the-art models in machine translations, such as word-piece\\n[38] and byte-pair [31] representations. To improve computational performance for tasks involving\\nvery long sequences, self-attention could be restricted to considering only a neighborhood of size r in\\nthe input sequence centered around the respective output position. This would increase the maximum\\npath length to O(n/r). We plan to investigate this approach further in future work.\\nA single convolutional layer with kernel width k < n does not connect all pairs of input and output\\npositions. Doing so requires a stack of O(n/k) convolutional layers in the case of contiguous kernels,',\n",
       "  'answer': 'Self-attention layers are faster than recurrent layers in terms of computational complexity when the sequence length n is smaller than the representation dimensionality d. This is because self-attention operations can be performed in parallel, while recurrent layers require sequential operations. However, for very long sequences, the computational cost of self-attention can become prohibitive due to the quadratic time complexity. To improve performance, one approach is to restrict self-attention to consider only a neighborhood of size r around the respective output position, increasing the maximum path length to O(n/r). This would reduce the number of computations required and could be an area for further research.'},\n",
       " {'question': 'Given the context about positions in neural networks and the complexity of different types of convolutional layers, calculate the complexity difference between using contiguous kernels with O(n/k) layers and dilated convolutions with O(logk(n)) layers, assuming n = 1000 and k = 5.',\n",
       "  'context': 'positions. Doing so requires a stack of O(n/k) convolutional layers in the case of contiguous kernels,\\nor O(logk(n)) in the case of dilated convolutions [18], increasing the length of the longest paths\\nbetween any two positions in the network. Convolutional layers are generally more expensive than\\nrecurrent layers, by a factor of k. Separable convolutions [6], however, decrease the complexity\\nconsiderably, to O(k · n · d + n · d2). Even with k = n, however, the complexity of a separable\\nconvolution is equal to the combination of a self-attention layer and a point-wise feed-forward layer,\\nthe approach we take in our model.\\nAs side benefit, self-attention could yield more interpretable models. We inspect attention distributions\\nfrom our models and present and discuss examples in the appendix. Not only do individual attention\\nheads clearly learn to perform different tasks, many appear to exhibit behavior related to the syntactic\\nand semantic structure of the sentences.\\n5\\nTraining',\n",
       "  'answer': 'The complexity difference between using contiguous kernels with O(n/k) layers and dilated convolutions with O(logk(n)) layers, assuming n = 1000 and k = 5, can be calculated as follows: \\n\\nFor contiguous kernels, the complexity is O(n * (n/k) * d), where d is the depth of each convolutional layer. Since there are n/k layers, the total complexity is O(n^2 * d). \\n\\nFor dilated convolutions, the complexity is O(n * logk(n) * d). Substituting n = 1000 and k = 5, we get a complexity of O(1000 * log5(1000) * d). \\n\\nComparing these complexities, we can see that the complexity for contiguous kernels is greater than that for dilated convolutions. Specifically, the complexity for contiguous kernels is approximately 25 times greater than that for dilated convolutions when n = 1000 and k = 5.'},\n",
       " {'question': 'In the context of machine translation, which dataset was used for training the English-German model and how large is its vocabulary?',\n",
       "  'context': 'heads clearly learn to perform different tasks, many appear to exhibit behavior related to the syntactic\\nand semantic structure of the sentences.\\n5\\nTraining\\nThis section describes the training regime for our models.\\n5.1\\nTraining Data and Batching\\nWe trained on the standard WMT 2014 English-German dataset consisting of about 4.5 million\\nsentence pairs. Sentences were encoded using byte-pair encoding [3], which has a shared source-\\ntarget vocabulary of about 37000 tokens. For English-French, we used the significantly larger WMT\\n2014 English-French dataset consisting of 36M sentences and split tokens into a 32000 word-piece\\nvocabulary [38]. Sentence pairs were batched together by approximate sequence length. Each training\\nbatch contained a set of sentence pairs containing approximately 25000 source tokens and 25000\\ntarget tokens.\\n5.2\\nHardware and Schedule\\nWe trained our models on one machine with 8 NVIDIA P100 GPUs. For our base models using',\n",
       "  'answer': 'The English-German model was trained on the WMT 2014 English-German dataset, which consists of approximately 4.5 million sentence pairs. The vocabulary size for this dataset is about 37,000 tokens.'},\n",
       " {'question': 'Given the context, what was the total time taken to train the base models and the big models respectively?',\n",
       "  'context': 'target tokens.\\n5.2\\nHardware and Schedule\\nWe trained our models on one machine with 8 NVIDIA P100 GPUs. For our base models using\\nthe hyperparameters described throughout the paper, each training step took about 0.4 seconds. We\\ntrained the base models for a total of 100,000 steps or 12 hours. For our big models,(described on the\\nbottom line of table 3), step time was 1.0 seconds. The big models were trained for 300,000 steps\\n(3.5 days).\\n5.3\\nOptimizer\\nWe used the Adam optimizer [20] with β1 = 0.9, β2 = 0.98 and ϵ = 10−9. We varied the learning\\nrate over the course of training, according to the formula:\\nlrate = d−0.5\\nmodel · min(step_num−0.5, step_num · warmup_steps−1.5)\\n(3)\\nThis corresponds to increasing the learning rate linearly for the first warmup_steps training steps,\\nand decreasing it thereafter proportionally to the inverse square root of the step number. We used\\nwarmup_steps = 4000.\\n5.4\\nRegularization\\nWe employ three types of regularization during training:\\n7',\n",
       "  'answer': 'The base models were trained for 12 hours or 100,000 steps, with each step taking approximately 0.4 seconds. Therefore, the total time taken to train the base models is 12 hours * 3600 seconds/hour = 432000 seconds. The big models were trained for 3.5 days or 300,000 steps, with each step taking approximately 1 second. Therefore, the total time taken to train the big models is 3.5 days * 86400 seconds/day = 2976000 seconds.'},\n",
       " {'question': 'Which model achieved the highest BLEU score on both English-to-German and English-to-French tests among all models listed in the table, including their ensembles?',\n",
       "  'context': 'and decreasing it thereafter proportionally to the inverse square root of the step number. We used\\nwarmup_steps = 4000.\\n5.4\\nRegularization\\nWe employ three types of regularization during training:\\n7\\nTable 2: The Transformer achieves better BLEU scores than previous state-of-the-art models on the\\nEnglish-to-German and English-to-French newstest2014 tests at a fraction of the training cost.\\nModel\\nBLEU\\nTraining Cost (FLOPs)\\nEN-DE\\nEN-FR\\nEN-DE\\nEN-FR\\nByteNet [18]\\n23.75\\nDeep-Att + PosUnk [39]\\n39.2\\n1.0 · 1020\\nGNMT + RL [38]\\n24.6\\n39.92\\n2.3 · 1019\\n1.4 · 1020\\nConvS2S [9]\\n25.16\\n40.46\\n9.6 · 1018\\n1.5 · 1020\\nMoE [32]\\n26.03\\n40.56\\n2.0 · 1019\\n1.2 · 1020\\nDeep-Att + PosUnk Ensemble [39]\\n40.4\\n8.0 · 1020\\nGNMT + RL Ensemble [38]\\n26.30\\n41.16\\n1.8 · 1020\\n1.1 · 1021\\nConvS2S Ensemble [9]\\n26.36\\n41.29\\n7.7 · 1019\\n1.2 · 1021\\nTransformer (base model)\\n27.3\\n38.1\\n3.3 · 1018\\nTransformer (big)\\n28.4\\n41.8\\n2.3 · 1019\\nResidual Dropout\\nWe apply dropout [33] to the output of each sub-layer, before it is added to the',\n",
       "  'answer': 'The Transformer (big) model achieved the highest BLEU scores on both English-to-German and English-to-French tests among all models listed in the table, including their ensembles. Its BLEU scores are 28.4 for English-to-German and 28.4 for English-to-French.'},\n",
       " {'question': 'What is the difference in performance between the base and big Transformer models on the WMT 2014 English-to-German translation task, as indicated by their respective BLEU scores?',\n",
       "  'context': '1.2 · 1021\\nTransformer (base model)\\n27.3\\n38.1\\n3.3 · 1018\\nTransformer (big)\\n28.4\\n41.8\\n2.3 · 1019\\nResidual Dropout\\nWe apply dropout [33] to the output of each sub-layer, before it is added to the\\nsub-layer input and normalized. In addition, we apply dropout to the sums of the embeddings and the\\npositional encodings in both the encoder and decoder stacks. For the base model, we use a rate of\\nPdrop = 0.1.\\nLabel Smoothing\\nDuring training, we employed label smoothing of value ϵls = 0.1 [36]. This\\nhurts perplexity, as the model learns to be more unsure, but improves accuracy and BLEU score.\\n6\\nResults\\n6.1\\nMachine Translation\\nOn the WMT 2014 English-to-German translation task, the big transformer model (Transformer (big)\\nin Table 2) outperforms the best previously reported models (including ensembles) by more than 2.0\\nBLEU, establishing a new state-of-the-art BLEU score of 28.4. The configuration of this model is',\n",
       "  'answer': \"The big Transformer model outperforms the base model on the WMT 2014 English-to-German translation task by a significant margin, as indicated by their respective BLEU scores. The big model achieved a score of 28.4, which is more than 1.3 points higher than the base model's score of 27.3. This improvement can be attributed to the larger model size and the use of techniques like residual dropout and label smoothing during training.\"},\n",
       " {'question': 'Based on the context, which model achieved a higher BLEU score in the English-to-French translation task and at what cost?',\n",
       "  'answer': \"The 'big model' achieved a higher BLEU score of 41.0 in the English-to-French translation task, which is more than the previously reported state-of-the-art score of 28.4. However, it's important to note that the big model was trained at less than 1/4 the cost of the previous state-of-the-art model.\",\n",
       "  'context': 'in Table 2) outperforms the best previously reported models (including ensembles) by more than 2.0\\nBLEU, establishing a new state-of-the-art BLEU score of 28.4. The configuration of this model is\\nlisted in the bottom line of Table 3. Training took 3.5 days on 8 P100 GPUs. Even our base model\\nsurpasses all previously published models and ensembles, at a fraction of the training cost of any of\\nthe competitive models.\\nOn the WMT 2014 English-to-French translation task, our big model achieves a BLEU score of 41.0,\\noutperforming all of the previously published single models, at less than 1/4 the training cost of the\\nprevious state-of-the-art model. The Transformer (big) model trained for English-to-French used\\ndropout rate Pdrop = 0.1, instead of 0.3.\\nFor the base models, we used a single model obtained by averaging the last 5 checkpoints, which\\nwere written at 10-minute intervals. For the big models, we averaged the last 20 checkpoints. We'},\n",
       " {'question': 'Based on the context, which hyperparameters were used for the base and big models during training, and how were they chosen? Also, estimate the number of floating point operations used to train a model based on the provided information.',\n",
       "  'context': 'For the base models, we used a single model obtained by averaging the last 5 checkpoints, which\\nwere written at 10-minute intervals. For the big models, we averaged the last 20 checkpoints. We\\nused beam search with a beam size of 4 and length penalty α = 0.6 [38]. These hyperparameters\\nwere chosen after experimentation on the development set. We set the maximum output length during\\ninference to input length + 50, but terminate early when possible [38].\\nTable 2 summarizes our results and compares our translation quality and training costs to other model\\narchitectures from the literature. We estimate the number of floating point operations used to train a\\nmodel by multiplying the training time, the number of GPUs used, and an estimate of the sustained\\nsingle-precision floating-point capacity of each GPU 5.\\n6.2\\nModel Variations\\nTo evaluate the importance of different components of the Transformer, we varied our base model',\n",
       "  'answer': 'For the base models, the hyperparameters were chosen by averaging the last 5 checkpoints written at 10-minute intervals. Specifically, no individual hyperparameter is mentioned in the context for the base model. For big models, the hyperparameters were chosen after experimentation on the development set based on the last 20 checkpoints. The provided context does not mention which hyperparameters were used for the base and big models during training except for beam search with a beam size of 4 and length penalty α = 0.6. Therefore, it is impossible to determine the exact hyperparameters used for the base and big models from the given context. As for the estimation of floating point operations, the context mentions that the number of floating point operations is estimated by multiplying the training time, the number of GPUs used, and an estimate of the sustained single-precision floating-point capacity of each GPU. However, no specific numbers are provided in the context for these quantities.'},\n",
       " {'question': 'Which GPU variation in Table 3 has the lowest perplexity (PPL) and BLEU score, while having a larger number of parameters than the base model?',\n",
       "  'context': 'single-precision floating-point capacity of each GPU 5.\\n6.2\\nModel Variations\\nTo evaluate the importance of different components of the Transformer, we varied our base model\\nin different ways, measuring the change in performance on English-to-German translation on the\\n5We used values of 2.8, 3.7, 6.0 and 9.5 TFLOPS for K80, K40, M40 and P100, respectively.\\n8\\nTable 3: Variations on the Transformer architecture. Unlisted values are identical to those of the base\\nmodel. All metrics are on the English-to-German translation development set, newstest2013. Listed\\nperplexities are per-wordpiece, according to our byte-pair encoding, and should not be compared to\\nper-word perplexities.\\nN\\ndmodel\\ndff\\nh\\ndk\\ndv\\nPdrop\\nϵls\\ntrain\\nPPL\\nBLEU\\nparams\\nsteps\\n(dev)\\n(dev)\\n×106\\nbase\\n6\\n512\\n2048\\n8\\n64\\n64\\n0.1\\n0.1\\n100K\\n4.92\\n25.8\\n65\\n(A)\\n1\\n512\\n512\\n5.29\\n24.9\\n4\\n128\\n128\\n5.00\\n25.5\\n16\\n32\\n32\\n4.91\\n25.8\\n32\\n16\\n16\\n5.01\\n25.4\\n(B)\\n16\\n5.16\\n25.1\\n58\\n32\\n5.01\\n25.4\\n60\\n(C)\\n2\\n6.11\\n23.7\\n36\\n4\\n5.19\\n25.3\\n50\\n8\\n4.88\\n25.5\\n80\\n256\\n32\\n32\\n5.75\\n24.5\\n28',\n",
       "  'answer': {'question': 'Which GPU variation in Table 3 has the lowest perplexity (PPL) and BLEU score, while having a larger number of parameters than the base model?',\n",
       "   'answer_text': 'The GPU variation with the lowest PPL and BLEU score that has a larger number of parameters than the base model is (B), which has 58 million parameters. Its perplexity is 5.01 and its BLEU score is 25.4.'}},\n",
       " {'question': 'Given the context, identify which row in Table 3 corresponds to the setting where the attention key size (dk) is reduced and the model quality drops?',\n",
       "  'context': '25.8\\n65\\n(A)\\n1\\n512\\n512\\n5.29\\n24.9\\n4\\n128\\n128\\n5.00\\n25.5\\n16\\n32\\n32\\n4.91\\n25.8\\n32\\n16\\n16\\n5.01\\n25.4\\n(B)\\n16\\n5.16\\n25.1\\n58\\n32\\n5.01\\n25.4\\n60\\n(C)\\n2\\n6.11\\n23.7\\n36\\n4\\n5.19\\n25.3\\n50\\n8\\n4.88\\n25.5\\n80\\n256\\n32\\n32\\n5.75\\n24.5\\n28\\n1024\\n128\\n128\\n4.66\\n26.0\\n168\\n1024\\n5.12\\n25.4\\n53\\n4096\\n4.75\\n26.2\\n90\\n(D)\\n0.0\\n5.77\\n24.6\\n0.2\\n4.95\\n25.5\\n0.0\\n4.67\\n25.3\\n0.2\\n5.47\\n25.7\\n(E)\\npositional embedding instead of sinusoids\\n4.92\\n25.7\\nbig\\n6\\n1024\\n4096\\n16\\n0.3\\n300K\\n4.33\\n26.4\\n213\\ndevelopment set, newstest2013. We used beam search as described in the previous section, but no\\ncheckpoint averaging. We present these results in Table 3.\\nIn Table 3 rows (A), we vary the number of attention heads and the attention key and value dimensions,\\nkeeping the amount of computation constant, as described in Section 3.2.2. While single-head\\nattention is 0.9 BLEU worse than the best setting, quality also drops off with too many heads.\\nIn Table 3 rows (B), we observe that reducing the attention key size dk hurts model quality. This',\n",
       "  'answer': 'The row in Table 3 where the attention key size (dk) is reduced and the model quality drops can be identified as row (B). The values for this row are: 16, 5.16, 25.1, 58, 32, 5.01, 25.4, 60.'},\n",
       " {'question': \"Given the context about the Transformer model's performance on attention key size and other factors, create a question related to English constituency parsing.\",\n",
       "  'context': 'attention is 0.9 BLEU worse than the best setting, quality also drops off with too many heads.\\nIn Table 3 rows (B), we observe that reducing the attention key size dk hurts model quality. This\\nsuggests that determining compatibility is not easy and that a more sophisticated compatibility\\nfunction than dot product may be beneficial. We further observe in rows (C) and (D) that, as expected,\\nbigger models are better, and dropout is very helpful in avoiding over-fitting. In row (E) we replace our\\nsinusoidal positional encoding with learned positional embeddings [9], and observe nearly identical\\nresults to the base model.\\n6.3\\nEnglish Constituency Parsing\\nTo evaluate if the Transformer can generalize to other tasks we performed experiments on English\\nconstituency parsing. This task presents specific challenges: the output is subject to strong structural\\nconstraints and is significantly longer than the input. Furthermore, RNN sequence-to-sequence',\n",
       "  'answer': 'Based on the context provided, which factor in the Transformer model setup could potentially improve English constituency parsing performance despite the structural constraints and longer output length compared to the input?'},\n",
       " {'question': 'Given the context of constituency parsing using a transformer model, what were the specific training details for the WSJ portion of the Penn Treebank and the semi-supervised setting? Also, which corpora were used in the larger high-confidence and BerkleyParser settings?',\n",
       "  'context': 'constituency parsing. This task presents specific challenges: the output is subject to strong structural\\nconstraints and is significantly longer than the input. Furthermore, RNN sequence-to-sequence\\nmodels have not been able to attain state-of-the-art results in small-data regimes [37].\\nWe trained a 4-layer transformer with dmodel = 1024 on the Wall Street Journal (WSJ) portion of the\\nPenn Treebank [25], about 40K training sentences. We also trained it in a semi-supervised setting,\\nusing the larger high-confidence and BerkleyParser corpora from with approximately 17M sentences\\n[37]. We used a vocabulary of 16K tokens for the WSJ only setting and a vocabulary of 32K tokens\\nfor the semi-supervised setting.\\nWe performed only a small number of experiments to select the dropout, both attention and residual\\n(section 5.4), learning rates and beam size on the Section 22 development set, all other parameters',\n",
       "  'answer': 'The WSJ portion of the Penn Treebank was trained on using a 4-layer transformer model with a dmodel size of 1024. Approximately 40,000 training sentences were used in this setting. In addition to this, the model was also trained in a semi-supervised setting using the larger high-confidence and BerkleyParser corpora which contained approximately 17 million sentences. The vocabulary size for the WSJ only setting was 16K tokens, while it was 32K tokens for the semi-supervised setting.'},\n",
       " {'question': 'In the given context, which model achieved the highest F1 score in semi-supervised English constituency parsing on Section 23 of WSJ?',\n",
       "  'answer': 'The Transformer (4 layers) achieved the highest F1 score in semi-supervised English constituency parsing on Section 23 of WSJ with a score of 92.7.',\n",
       "  'context': 'We performed only a small number of experiments to select the dropout, both attention and residual\\n(section 5.4), learning rates and beam size on the Section 22 development set, all other parameters\\nremained unchanged from the English-to-German base translation model. During inference, we\\n9\\nTable 4: The Transformer generalizes well to English constituency parsing (Results are on Section 23\\nof WSJ)\\nParser\\nTraining\\nWSJ 23 F1\\nVinyals & Kaiser el al. (2014) [37]\\nWSJ only, discriminative\\n88.3\\nPetrov et al. (2006) [29]\\nWSJ only, discriminative\\n90.4\\nZhu et al. (2013) [40]\\nWSJ only, discriminative\\n90.4\\nDyer et al. (2016) [8]\\nWSJ only, discriminative\\n91.7\\nTransformer (4 layers)\\nWSJ only, discriminative\\n91.3\\nZhu et al. (2013) [40]\\nsemi-supervised\\n91.3\\nHuang & Harper (2009) [14]\\nsemi-supervised\\n91.3\\nMcClosky et al. (2006) [26]\\nsemi-supervised\\n92.1\\nVinyals & Kaiser el al. (2014) [37]\\nsemi-supervised\\n92.1\\nTransformer (4 layers)\\nsemi-supervised\\n92.7\\nLuong et al. (2015) [23]\\nmulti-task\\n93.0'},\n",
       " {'question': 'Based on the context provided, which study (McClosky et al. [26], Vinyals & Kaiser [37], or Luong et al. [23]) used a semi-supervised learning approach in their research on sequence transduction? Please specify the authors and the publication year.',\n",
       "  'context': '91.3\\nMcClosky et al. (2006) [26]\\nsemi-supervised\\n92.1\\nVinyals & Kaiser el al. (2014) [37]\\nsemi-supervised\\n92.1\\nTransformer (4 layers)\\nsemi-supervised\\n92.7\\nLuong et al. (2015) [23]\\nmulti-task\\n93.0\\nDyer et al. (2016) [8]\\ngenerative\\n93.3\\nincreased the maximum output length to input length + 300. We used a beam size of 21 and α = 0.3\\nfor both WSJ only and the semi-supervised setting.\\nOur results in Table 4 show that despite the lack of task-specific tuning our model performs sur-\\nprisingly well, yielding better results than all previously reported models with the exception of the\\nRecurrent Neural Network Grammar [8].\\nIn contrast to RNN sequence-to-sequence models [37], the Transformer outperforms the Berkeley-\\nParser [29] even when training only on the WSJ training set of 40K sentences.\\n7\\nConclusion\\nIn this work, we presented the Transformer, the first sequence transduction model based entirely on',\n",
       "  'answer': 'Vinyals & Kaiser (2014) [37] used a semi-supervised learning approach in their research on sequence transduction.'},\n",
       " {'question': 'Given the context about the Transformer model, which language pairs did the researchers achieve a new state of the art on in WMT 2014 translation tasks?',\n",
       "  'context': 'Parser [29] even when training only on the WSJ training set of 40K sentences.\\n7\\nConclusion\\nIn this work, we presented the Transformer, the first sequence transduction model based entirely on\\nattention, replacing the recurrent layers most commonly used in encoder-decoder architectures with\\nmulti-headed self-attention.\\nFor translation tasks, the Transformer can be trained significantly faster than architectures based\\non recurrent or convolutional layers. On both WMT 2014 English-to-German and WMT 2014\\nEnglish-to-French translation tasks, we achieve a new state of the art. In the former task our best\\nmodel outperforms even all previously reported ensembles.\\nWe are excited about the future of attention-based models and plan to apply them to other tasks. We\\nplan to extend the Transformer to problems involving input and output modalities other than text and\\nto investigate local, restricted attention mechanisms to efficiently handle large inputs and outputs',\n",
       "  'answer': 'The researchers achieved a new state of the art on WMT 2014 English-to-German and WMT 2014 English-to-French translation tasks.'}]"
      ]
     },
     "execution_count": 149,
     "metadata": {},
     "output_type": "execute_result"
    }
   ],
   "source": [
    "qac_triples"
   ]
  },
  {
   "cell_type": "code",
   "execution_count": 164,
   "metadata": {},
   "outputs": [],
   "source": [
    "import pandas as pd\n",
    "from datasets import Dataset\n",
    "\n",
    "ground_truth_qac_set = pd.DataFrame(qac_triples)\n",
    "ground_truth_qac_set[\"context\"] = ground_truth_qac_set[\"context\"].map(lambda x: str(x))\n",
    "ground_truth_qac_set[\"answer\"] = ground_truth_qac_set[\"answer\"].map(lambda x: str(x))\n",
    "ground_truth_qac_set = ground_truth_qac_set.rename(columns={\"answer\" : \"ground_truth\"})\n",
    "\n",
    "\n",
    "eval_dataset = Dataset.from_pandas(ground_truth_qac_set)"
   ]
  },
  {
   "cell_type": "code",
   "execution_count": 165,
   "metadata": {},
   "outputs": [
    {
     "name": "stderr",
     "output_type": "stream",
     "text": [
      "Creating CSV from Arrow format: 100%|██████████| 1/1 [00:00<00:00, 500.16ba/s]\n"
     ]
    },
    {
     "data": {
      "text/plain": [
       "51019"
      ]
     },
     "execution_count": 165,
     "metadata": {},
     "output_type": "execute_result"
    }
   ],
   "source": [
    "eval_dataset.to_csv(\"groundtruth_eval_dataset_37test3.csv\")"
   ]
  }
 ],
 "metadata": {
  "kernelspec": {
   "display_name": "unstructured_py311",
   "language": "python",
   "name": "python3"
  },
  "language_info": {
   "codemirror_mode": {
    "name": "ipython",
    "version": 3
   },
   "file_extension": ".py",
   "mimetype": "text/x-python",
   "name": "python",
   "nbconvert_exporter": "python",
   "pygments_lexer": "ipython3",
   "version": "3.11.8"
  }
 },
 "nbformat": 4,
 "nbformat_minor": 2
}
